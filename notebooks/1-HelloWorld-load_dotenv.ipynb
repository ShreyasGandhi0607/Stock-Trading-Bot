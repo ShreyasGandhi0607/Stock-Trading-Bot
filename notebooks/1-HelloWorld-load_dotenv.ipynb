{
 "cells": [
  {
   "cell_type": "code",
   "execution_count": 8,
   "id": "4474f00f-bf51-441c-ab9a-6fd2bf311c5f",
   "metadata": {},
   "outputs": [],
   "source": [
    "from decouple import AutoConfig"
   ]
  },
  {
   "cell_type": "code",
   "execution_count": 9,
   "id": "67c587b9-9736-41df-8bcf-c14803a542f3",
   "metadata": {},
   "outputs": [],
   "source": [
    "config = AutoConfig(search_path=\"..\")"
   ]
  },
  {
   "cell_type": "code",
   "execution_count": 21,
   "id": "a2e96373-af2c-41fc-8aeb-479823d240ab",
   "metadata": {},
   "outputs": [],
   "source": [
    "assert config(\"ALPHA_VANTAGE_API_KEY\", default=None, cast = str) is not None"
   ]
  },
  {
   "cell_type": "code",
   "execution_count": 22,
   "id": "3c8a919c-8cc3-414f-9d44-0dabc0618b6a",
   "metadata": {},
   "outputs": [],
   "source": [
    "assert config(\"POLOGYON_API_KEY\", default=None, cast = str) is not None"
   ]
  },
  {
   "cell_type": "code",
   "execution_count": null,
   "id": "63227c94-cf1b-42f7-8073-befe22eb92b7",
   "metadata": {},
   "outputs": [],
   "source": []
  },
  {
   "cell_type": "code",
   "execution_count": null,
   "id": "87871925-6057-46bc-98f4-ac61f100bee4",
   "metadata": {},
   "outputs": [],
   "source": []
  }
 ],
 "metadata": {
  "kernelspec": {
   "display_name": "Python 3 (ipykernel)",
   "language": "python",
   "name": "python3"
  },
  "language_info": {
   "codemirror_mode": {
    "name": "ipython",
    "version": 3
   },
   "file_extension": ".py",
   "mimetype": "text/x-python",
   "name": "python",
   "nbconvert_exporter": "python",
   "pygments_lexer": "ipython3",
   "version": "3.13.4"
  }
 },
 "nbformat": 4,
 "nbformat_minor": 5
}
