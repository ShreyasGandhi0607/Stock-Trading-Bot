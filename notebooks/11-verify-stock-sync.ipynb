{
 "cells": [
  {
   "cell_type": "code",
   "execution_count": 1,
   "id": "e7c4b318-bd06-446e-ab1b-b7fac16334db",
   "metadata": {},
   "outputs": [],
   "source": [
    "import setup\n",
    "setup.init_django()"
   ]
  },
  {
   "cell_type": "code",
   "execution_count": 2,
   "id": "9fd5fb9e-8ad0-4721-bb9b-986341728029",
   "metadata": {},
   "outputs": [],
   "source": [
    "from market.models import *"
   ]
  },
  {
   "cell_type": "code",
   "execution_count": 3,
   "id": "e324a84b-9601-4539-8236-b9685d8a711f",
   "metadata": {},
   "outputs": [
    {
     "data": {
      "text/plain": [
       "2"
      ]
     },
     "execution_count": 3,
     "metadata": {},
     "output_type": "execute_result"
    }
   ],
   "source": [
    "qs = Company.objects.filter(active=True)\n",
    "qs.count()"
   ]
  },
  {
   "cell_type": "code",
   "execution_count": 4,
   "id": "8f1d30b9-e040-4029-9a4e-701bff9a09c8",
   "metadata": {},
   "outputs": [],
   "source": [
    "# objects = Company.objects.all()\n",
    "# start_from_scrath = True\n",
    "# if start_from_scrath:\n",
    "#     objects.delete()"
   ]
  },
  {
   "cell_type": "code",
   "execution_count": 5,
   "id": "c6de7fe0-9fba-4eac-881e-89bfd2058142",
   "metadata": {},
   "outputs": [],
   "source": [
    "obj, created = Company.objects.get_or_create(name='Apple',ticker='aapl')\n",
    "# obj.save()\n",
    "# force the ticker to be uppercase"
   ]
  },
  {
   "cell_type": "code",
   "execution_count": null,
   "id": "494a3ea2-584e-42c5-820a-784318b9d035",
   "metadata": {},
   "outputs": [],
   "source": []
  },
  {
   "cell_type": "code",
   "execution_count": 6,
   "id": "acaf2a57-776c-4866-8594-df738883cc31",
   "metadata": {},
   "outputs": [
    {
     "data": {
      "text/plain": [
       "10000"
      ]
     },
     "execution_count": 6,
     "metadata": {},
     "output_type": "execute_result"
    }
   ],
   "source": [
    "stocks = stockQuote.objects.all()\n",
    "stocks.count()"
   ]
  },
  {
   "cell_type": "code",
   "execution_count": 7,
   "id": "7d6aa86c-aa11-46a8-b4fd-193473aedec8",
   "metadata": {},
   "outputs": [],
   "source": [
    "start_from_scrath = False\n",
    "if start_from_scrath:\n",
    "    stocks.delete()"
   ]
  },
  {
   "cell_type": "code",
   "execution_count": 8,
   "id": "550fc715-d220-43a7-8625-e952bd3499a0",
   "metadata": {},
   "outputs": [],
   "source": [
    "from market import tasks as market_tasks"
   ]
  },
  {
   "cell_type": "code",
   "execution_count": 9,
   "id": "5bfa0b70-c3bc-4bff-b3cd-c9aa8a379f9a",
   "metadata": {},
   "outputs": [],
   "source": [
    "market_tasks.sync_stocks_data()"
   ]
  },
  {
   "cell_type": "code",
   "execution_count": 10,
   "id": "ac220af8-8f4d-4f08-80eb-6e377f63aa35",
   "metadata": {},
   "outputs": [
    {
     "data": {
      "text/plain": [
       "15000"
      ]
     },
     "execution_count": 10,
     "metadata": {},
     "output_type": "execute_result"
    }
   ],
   "source": [
    "stockQuote.objects.all().count()"
   ]
  },
  {
   "cell_type": "code",
   "execution_count": 11,
   "id": "69050f23-70ee-4e10-ba5a-c304509e587b",
   "metadata": {},
   "outputs": [],
   "source": [
    "# companies = Company.objects.filter(active=True).values_list('id',flat=True)\n",
    "# for company_id in companies:\n",
    "#         print(company_id)"
   ]
  },
  {
   "cell_type": "code",
   "execution_count": null,
   "id": "c8fa6462-c510-4956-b37e-d6e72ae75d4a",
   "metadata": {},
   "outputs": [],
   "source": []
  }
 ],
 "metadata": {
  "kernelspec": {
   "display_name": "Python 3 (ipykernel)",
   "language": "python",
   "name": "python3"
  },
  "language_info": {
   "codemirror_mode": {
    "name": "ipython",
    "version": 3
   },
   "file_extension": ".py",
   "mimetype": "text/x-python",
   "name": "python",
   "nbconvert_exporter": "python",
   "pygments_lexer": "ipython3",
   "version": "3.13.4"
  }
 },
 "nbformat": 4,
 "nbformat_minor": 5
}
