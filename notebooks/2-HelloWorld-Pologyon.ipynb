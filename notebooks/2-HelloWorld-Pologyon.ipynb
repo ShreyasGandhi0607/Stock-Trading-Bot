{
 "cells": [
  {
   "cell_type": "code",
   "execution_count": 5,
   "id": "4474f00f-bf51-441c-ab9a-6fd2bf311c5f",
   "metadata": {},
   "outputs": [],
   "source": [
    "from decouple import AutoConfig"
   ]
  },
  {
   "cell_type": "code",
   "execution_count": 6,
   "id": "67c587b9-9736-41df-8bcf-c14803a542f3",
   "metadata": {},
   "outputs": [],
   "source": [
    "config = AutoConfig(search_path=\"..\")"
   ]
  },
  {
   "cell_type": "code",
   "execution_count": 7,
   "id": "3c8a919c-8cc3-414f-9d44-0dabc0618b6a",
   "metadata": {},
   "outputs": [],
   "source": [
    "POLOGYON_API_KEY = config(\"POLOGYON_API_KEY\")"
   ]
  },
  {
   "cell_type": "code",
   "execution_count": 8,
   "id": "63227c94-cf1b-42f7-8073-befe22eb92b7",
   "metadata": {},
   "outputs": [],
   "source": [
    "# POLOGYON_API_KEY"
   ]
  },
  {
   "cell_type": "code",
   "execution_count": 9,
   "id": "87871925-6057-46bc-98f4-ac61f100bee4",
   "metadata": {},
   "outputs": [],
   "source": [
    "import requests"
   ]
  },
  {
   "cell_type": "code",
   "execution_count": 10,
   "id": "6a1ac334-bc87-44d2-b29a-42866d924704",
   "metadata": {},
   "outputs": [],
   "source": [
    "ticker = \"AAPL\"\n",
    "multiplier = \"1\"\n",
    "timespan = \"day\"\n",
    "from_date = \"2023-01-09\"\n",
    "to_date = \"2023-01-09\""
   ]
  },
  {
   "cell_type": "code",
   "execution_count": 11,
   "id": "1e595111-6d97-4c31-ba84-4fd2ca438a75",
   "metadata": {},
   "outputs": [],
   "source": [
    "path = f\"/v2/aggs/ticker/{ticker}/range/{multiplier}/{timespan}/{from_date}/{to_date}\""
   ]
  },
  {
   "cell_type": "code",
   "execution_count": 12,
   "id": "c7d3dec1-b544-4cd3-b9af-386c446b3678",
   "metadata": {},
   "outputs": [],
   "source": [
    "url = f\"https://api.polygon.io{path}?apiKey={POLOGYON_API_KEY}\""
   ]
  },
  {
   "cell_type": "code",
   "execution_count": 19,
   "id": "ce3a1792-7c5e-4b6a-982d-dc21a2cfccfd",
   "metadata": {},
   "outputs": [],
   "source": [
    "url2 = f\"https://api.polygon.io/v3/reference/tickers/{ticker}?apiKey={POLOGYON_API_KEY}\""
   ]
  },
  {
   "cell_type": "code",
   "execution_count": 20,
   "id": "8cca434c-71c8-4ce6-b159-9aed20d1c0c6",
   "metadata": {},
   "outputs": [],
   "source": [
    "response = requests.get(url2)"
   ]
  },
  {
   "cell_type": "code",
   "execution_count": 21,
   "id": "a99c6e33-f80a-4e54-b288-b220566f29d4",
   "metadata": {},
   "outputs": [],
   "source": [
    "data = response.json()\n"
   ]
  },
  {
   "cell_type": "code",
   "execution_count": 22,
   "id": "42e26cd3-0b2a-4e8e-a939-3727e1b04a9b",
   "metadata": {},
   "outputs": [
    {
     "data": {
      "text/plain": [
       "{'request_id': 'a4254bc41a5c458bd1cea6adb8901359',\n",
       " 'results': {'ticker': 'AAPL',\n",
       "  'name': 'Apple Inc.',\n",
       "  'market': 'stocks',\n",
       "  'locale': 'us',\n",
       "  'primary_exchange': 'XNAS',\n",
       "  'type': 'CS',\n",
       "  'active': True,\n",
       "  'currency_name': 'usd',\n",
       "  'cik': '0000320193',\n",
       "  'composite_figi': 'BBG000B9XRY4',\n",
       "  'share_class_figi': 'BBG001S5N8V8',\n",
       "  'market_cap': 3155491959020.0,\n",
       "  'phone_number': '(408) 996-1010',\n",
       "  'address': {'address1': 'ONE APPLE PARK WAY',\n",
       "   'city': 'CUPERTINO',\n",
       "   'state': 'CA',\n",
       "   'postal_code': '95014'},\n",
       "  'description': \"Apple is among the largest companies in the world, with a broad portfolio of hardware and software products targeted at consumers and businesses. Apple's iPhone makes up a majority of the firm sales, and Apple's other products like Mac, iPad, and Watch are designed around the iPhone as the focal point of an expansive software ecosystem. Apple has progressively worked to add new applications, like streaming video, subscription bundles, and augmented reality. The firm designs its own software and semiconductors while working with subcontractors like Foxconn and TSMC to build its products and chips. Slightly less than half of Apple's sales come directly through its flagship stores, with a majority of sales coming indirectly through partnerships and distribution.\",\n",
       "  'sic_code': '3571',\n",
       "  'sic_description': 'ELECTRONIC COMPUTERS',\n",
       "  'ticker_root': 'AAPL',\n",
       "  'homepage_url': 'https://www.apple.com',\n",
       "  'total_employees': 164000,\n",
       "  'list_date': '1980-12-12',\n",
       "  'branding': {'logo_url': 'https://api.polygon.io/v1/reference/company-branding/YXBwbGUuY29t/images/2025-04-04_logo.svg',\n",
       "   'icon_url': 'https://api.polygon.io/v1/reference/company-branding/YXBwbGUuY29t/images/2025-04-04_icon.png'},\n",
       "  'share_class_shares_outstanding': 14935826000,\n",
       "  'weighted_shares_outstanding': 14935826000,\n",
       "  'round_lot': 100},\n",
       " 'status': 'OK'}"
      ]
     },
     "execution_count": 22,
     "metadata": {},
     "output_type": "execute_result"
    }
   ],
   "source": [
    "data"
   ]
  },
  {
   "cell_type": "code",
   "execution_count": null,
   "id": "be346866-23dc-4629-8188-699a8d8df932",
   "metadata": {},
   "outputs": [],
   "source": []
  },
  {
   "cell_type": "code",
   "execution_count": null,
   "id": "e2db31f1-2258-4b5d-87d7-21763b0ce53c",
   "metadata": {},
   "outputs": [],
   "source": []
  }
 ],
 "metadata": {
  "kernelspec": {
   "display_name": "Python 3 (ipykernel)",
   "language": "python",
   "name": "python3"
  },
  "language_info": {
   "codemirror_mode": {
    "name": "ipython",
    "version": 3
   },
   "file_extension": ".py",
   "mimetype": "text/x-python",
   "name": "python",
   "nbconvert_exporter": "python",
   "pygments_lexer": "ipython3",
   "version": "3.13.4"
  }
 },
 "nbformat": 4,
 "nbformat_minor": 5
}
