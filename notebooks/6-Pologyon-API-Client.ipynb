{
 "cells": [
  {
   "cell_type": "code",
   "execution_count": 1,
   "id": "4474f00f-bf51-441c-ab9a-6fd2bf311c5f",
   "metadata": {},
   "outputs": [],
   "source": [
    "from decouple import AutoConfig"
   ]
  },
  {
   "cell_type": "code",
   "execution_count": 2,
   "id": "67c587b9-9736-41df-8bcf-c14803a542f3",
   "metadata": {},
   "outputs": [],
   "source": [
    "config = AutoConfig(search_path=\"..\")"
   ]
  },
  {
   "cell_type": "code",
   "execution_count": 20,
   "id": "3c8a919c-8cc3-414f-9d44-0dabc0618b6a",
   "metadata": {},
   "outputs": [],
   "source": [
    "POLOGYON_API_KEY = config(\"POLOGYON_API_KEY\")"
   ]
  },
  {
   "cell_type": "code",
   "execution_count": 22,
   "id": "63227c94-cf1b-42f7-8073-befe22eb92b7",
   "metadata": {},
   "outputs": [],
   "source": [
    "# POLOGYON_API_KEY"
   ]
  },
  {
   "cell_type": "code",
   "execution_count": 5,
   "id": "87871925-6057-46bc-98f4-ac61f100bee4",
   "metadata": {},
   "outputs": [],
   "source": [
    "import requests"
   ]
  },
  {
   "cell_type": "code",
   "execution_count": 6,
   "id": "6a1ac334-bc87-44d2-b29a-42866d924704",
   "metadata": {},
   "outputs": [],
   "source": [
    "ticker = \"AAPL\"\n",
    "multiplier = \"1\"\n",
    "timespan = \"day\"\n",
    "from_date = \"2023-01-09\"\n",
    "to_date = \"2023-01-09\""
   ]
  },
  {
   "cell_type": "code",
   "execution_count": 61,
   "id": "ee073b43-37a9-43c9-bb4c-65b2ad66908e",
   "metadata": {},
   "outputs": [],
   "source": [
    "import pytz\n",
    "from datetime import datetime\n",
    "from typing import Literal\n",
    "from dataclasses import dataclass\n",
    "from urllib.parse import urlencode\n",
    "\n",
    "POLOGYON_API_KEY = config(\"POLOGYON_API_KEY\")\n",
    "\n",
    "\n",
    "def transform_pologyon_result(result):\n",
    "    unix_timestamp = result.get('t') / 1000.0\n",
    "    utc_timestamp = datetime.fromtimestamp(unix_timestamp, tz = pytz.timezone('UTC'))\n",
    "    return {\n",
    "        'open_price' : result['o'],\n",
    "        'close_price' : result['c'],\n",
    "        'high_price' : result['h'],\n",
    "        'low_price' : result['l'],\n",
    "        'number_of_trades' : result['n'],\n",
    "        'volume' : result['v'],\n",
    "        'volume_weighted_average' : result['vw'],\n",
    "        'time' : utc_timestamp\n",
    "    }\n",
    "\n",
    "@dataclass\n",
    "class PologyonAPIClient:\n",
    "    ticker : str = \"AAPL\"\n",
    "    multiplier : int = 1\n",
    "    timespan : str = \"day\"\n",
    "    from_date : str = \"2025-07-25\"\n",
    "    to_date : str = \"2025-07-30\"\n",
    "    api_key : str = \"\"\n",
    "    adjusted : bool = True\n",
    "    sort : Literal[\"asc\",\"desc\"] = \"asc\"\n",
    "\n",
    "    def get_api_key(self):\n",
    "        return self.api_key or POLOGYON_API_KEY\n",
    "\n",
    "        \n",
    "    def get_params(self):\n",
    "        return {\n",
    "            \"adjusted\" : self.adjusted,\n",
    "            \"sort\" : self.sort\n",
    "        }\n",
    "\n",
    "    def get_headers(self):\n",
    "        api_key = self.get_api_key()\n",
    "        return {\n",
    "            \"Authorization\" : f\"Bearer {api_key}\"\n",
    "        }\n",
    "    \n",
    "    def generate_url(self, pass_auth= False):\n",
    "        path = f\"/v2/aggs/ticker/{self.ticker}/range/{self.multiplier}/{self.timespan}/{self.from_date}/{self.to_date}\"\n",
    "        url = f\"https://api.polygon.io{path}\"\n",
    "        params = self.get_params()\n",
    "        encoded_params = urlencode(params)\n",
    "        url = f\"{url}?{encoded_params}\"\n",
    "        if pass_auth:\n",
    "            api_key = self.get_api_key()\n",
    "            url += f\"&apiKey={api_key}\"\n",
    "            \n",
    "        return url\n",
    "\n",
    "    def fetch_data(self):\n",
    "        headers = self.get_headers()\n",
    "        url = self.generate_url()\n",
    "        response = requests.get(url, headers=headers)\n",
    "        response.raise_for_status() # not 200/201\n",
    "        return response.json()\n",
    "\n",
    "    def get_stock_data(self):\n",
    "        data = self.fetch_data()\n",
    "        results = data['results']\n",
    "        dataset = []\n",
    "        for result in results:\n",
    "            dataset.append(\n",
    "                transform_pologyon_result(result)\n",
    "            )\n",
    "        return dataset\n",
    "        \n",
    "        "
   ]
  },
  {
   "cell_type": "code",
   "execution_count": 62,
   "id": "7fb27e95-c13b-4d1c-bd27-ca5d7fb84dfd",
   "metadata": {},
   "outputs": [
    {
     "data": {
      "text/plain": [
       "[{'open_price': 192.93,\n",
       "  'close_price': 194.08,\n",
       "  'high_price': 195.275,\n",
       "  'low_price': 192.13,\n",
       "  'number_of_trades': 382221,\n",
       "  'volume': 31101847.0,\n",
       "  'volume_weighted_average': 194.1131,\n",
       "  'time': datetime.datetime(2025, 7, 25, 4, 0, tzinfo=<UTC>)},\n",
       " {'open_price': 194.41,\n",
       "  'close_price': 193.42,\n",
       "  'high_price': 194.82,\n",
       "  'low_price': 191.855,\n",
       "  'number_of_trades': 334933,\n",
       "  'volume': 25553546.0,\n",
       "  'volume_weighted_average': 193.0534,\n",
       "  'time': datetime.datetime(2025, 7, 28, 4, 0, tzinfo=<UTC>)},\n",
       " {'open_price': 193.3,\n",
       "  'close_price': 196.43,\n",
       "  'high_price': 196.66,\n",
       "  'low_price': 192.99,\n",
       "  'number_of_trades': 378358,\n",
       "  'volume': 31891598.0,\n",
       "  'volume_weighted_average': 195.3001,\n",
       "  'time': datetime.datetime(2025, 7, 29, 4, 0, tzinfo=<UTC>)},\n",
       " {'open_price': 196.3,\n",
       "  'close_price': 197.44,\n",
       "  'high_price': 198.4799,\n",
       "  'low_price': 195.56,\n",
       "  'number_of_trades': 312938,\n",
       "  'volume': 21150522.0,\n",
       "  'volume_weighted_average': 197.2245,\n",
       "  'time': datetime.datetime(2025, 7, 30, 4, 0, tzinfo=<UTC>)}]"
      ]
     },
     "execution_count": 62,
     "metadata": {},
     "output_type": "execute_result"
    }
   ],
   "source": [
    "stock_api_client = PologyonAPIClient(ticker='GOOG', multiplier = 1)\n",
    "dataset = stock_api_client.get_stock_data()\n",
    "dataset"
   ]
  },
  {
   "cell_type": "code",
   "execution_count": 63,
   "id": "1e595111-6d97-4c31-ba84-4fd2ca438a75",
   "metadata": {},
   "outputs": [],
   "source": [
    "# This is to test on the localhost\n",
    "# stock_api_client.generate_url(pass_auth=True)"
   ]
  },
  {
   "cell_type": "code",
   "execution_count": 64,
   "id": "c7d3dec1-b544-4cd3-b9af-386c446b3678",
   "metadata": {},
   "outputs": [
    {
     "data": {
      "text/plain": [
       "'https://api.polygon.io/v2/aggs/ticker/GOOG/range/1/day/2025-07-25/2025-07-30?adjusted=True&sort=asc'"
      ]
     },
     "execution_count": 64,
     "metadata": {},
     "output_type": "execute_result"
    }
   ],
   "source": [
    "stock_api_client.generate_url()"
   ]
  },
  {
   "cell_type": "code",
   "execution_count": 30,
   "id": "ce3a1792-7c5e-4b6a-982d-dc21a2cfccfd",
   "metadata": {},
   "outputs": [],
   "source": []
  },
  {
   "cell_type": "code",
   "execution_count": 10,
   "id": "8cca434c-71c8-4ce6-b159-9aed20d1c0c6",
   "metadata": {},
   "outputs": [],
   "source": []
  },
  {
   "cell_type": "code",
   "execution_count": 11,
   "id": "a99c6e33-f80a-4e54-b288-b220566f29d4",
   "metadata": {},
   "outputs": [],
   "source": [
    "\n"
   ]
  },
  {
   "cell_type": "code",
   "execution_count": 31,
   "id": "42e26cd3-0b2a-4e8e-a939-3727e1b04a9b",
   "metadata": {},
   "outputs": [],
   "source": []
  }
 ],
 "metadata": {
  "kernelspec": {
   "display_name": "Python 3 (ipykernel)",
   "language": "python",
   "name": "python3"
  },
  "language_info": {
   "codemirror_mode": {
    "name": "ipython",
    "version": 3
   },
   "file_extension": ".py",
   "mimetype": "text/x-python",
   "name": "python",
   "nbconvert_exporter": "python",
   "pygments_lexer": "ipython3",
   "version": "3.13.4"
  }
 },
 "nbformat": 4,
 "nbformat_minor": 5
}
