{
 "cells": [
  {
   "cell_type": "code",
   "execution_count": 1,
   "id": "e7c4b318-bd06-446e-ab1b-b7fac16334db",
   "metadata": {},
   "outputs": [],
   "source": [
    "import setup\n",
    "setup.init_django()"
   ]
  },
  {
   "cell_type": "code",
   "execution_count": 2,
   "id": "7d666f0f-eb0a-4894-a847-437a58879e4f",
   "metadata": {},
   "outputs": [],
   "source": [
    "import helpers.clients as helper_clients"
   ]
  },
  {
   "cell_type": "code",
   "execution_count": 3,
   "id": "bcba41ea-74ab-4e17-8e49-4851d5fd34e2",
   "metadata": {},
   "outputs": [],
   "source": [
    "company_name = \"Apple\"\n",
    "company_ticker = \"AAPL\"\n",
    "multiplier = 1\n",
    "timespan = \"minute\"\n",
    "from_date=\"2025-06-28\"\n",
    "to_date=\"2025-07-28\"\n"
   ]
  },
  {
   "cell_type": "code",
   "execution_count": 4,
   "id": "5b745f0d-d8f2-4fe6-a2c3-a5fdba18cfb5",
   "metadata": {},
   "outputs": [
    {
     "name": "stdout",
     "output_type": "stream",
     "text": [
      "Fetched 5000 bars\n"
     ]
    }
   ],
   "source": [
    "client = helper_clients.PologyonAPIClient(\n",
    "    ticker=company_ticker,\n",
    "    multiplier= multiplier,\n",
    "    timespan=timespan,\n",
    "    from_date=from_date,\n",
    "    to_date=to_date\n",
    ")\n",
    "dataset = client.get_stock_data()\n",
    "print(f\"Fetched {len(dataset)} bars\")\n"
   ]
  },
  {
   "cell_type": "code",
   "execution_count": 5,
   "id": "7c547888-e359-432a-b641-c12b19140555",
   "metadata": {},
   "outputs": [
    {
     "data": {
      "text/plain": [
       "5000"
      ]
     },
     "execution_count": 5,
     "metadata": {},
     "output_type": "execute_result"
    }
   ],
   "source": [
    "len(dataset)"
   ]
  },
  {
   "cell_type": "code",
   "execution_count": 6,
   "id": "6b0df406-7b4f-451b-8136-3b599b58e6ab",
   "metadata": {},
   "outputs": [],
   "source": [
    "new_stock_data = dataset[0]"
   ]
  },
  {
   "cell_type": "code",
   "execution_count": 7,
   "id": "3ffaedf4-32f8-4058-8302-f0bff850b992",
   "metadata": {},
   "outputs": [
    {
     "data": {
      "text/plain": [
       "{'open_price': 202,\n",
       " 'close_price': 201.73,\n",
       " 'high_price': 202,\n",
       " 'low_price': 201.7,\n",
       " 'number_of_trades': 115,\n",
       " 'volume': 2903,\n",
       " 'volume_weighted_average': 201.7432,\n",
       " 'time': datetime.datetime(2025, 6, 30, 8, 0, tzinfo=<UTC>)}"
      ]
     },
     "execution_count": 7,
     "metadata": {},
     "output_type": "execute_result"
    }
   ],
   "source": [
    "new_stock_data"
   ]
  },
  {
   "cell_type": "code",
   "execution_count": 8,
   "id": "0e3fe421-363e-470b-a3fc-b3abbb5dd10a",
   "metadata": {},
   "outputs": [],
   "source": [
    "from market.models import Company, stockQuote\n"
   ]
  },
  {
   "cell_type": "code",
   "execution_count": 9,
   "id": "56a78d68-cbb3-436c-a0b1-d37f93aac08c",
   "metadata": {},
   "outputs": [],
   "source": [
    "company_obj, created = Company.objects.get_or_create(name=company_name, ticker = company_ticker)"
   ]
  },
  {
   "cell_type": "code",
   "execution_count": 10,
   "id": "2e1c330e-8528-4362-bb5d-0fcdfa13016f",
   "metadata": {},
   "outputs": [
    {
     "data": {
      "text/plain": [
       "<Company: Company object (1)>"
      ]
     },
     "execution_count": 10,
     "metadata": {},
     "output_type": "execute_result"
    }
   ],
   "source": [
    "company_obj"
   ]
  },
  {
   "cell_type": "code",
   "execution_count": 11,
   "id": "ac79d10a-b69f-42d9-9b32-bf42f0928790",
   "metadata": {},
   "outputs": [],
   "source": [
    "# stockQuote.objects.bulk_create(company=company_obj, **new_stock_data)"
   ]
  },
  {
   "cell_type": "code",
   "execution_count": 12,
   "id": "4d196454-7b85-41b1-9f0a-5899322a1017",
   "metadata": {},
   "outputs": [],
   "source": [
    "# new_quotes = []\n",
    "# for data in dataset:\n",
    "#     new_quotes.append(\n",
    "#         stockQuote(company=company_obj, **new_stock_data)\n",
    "#     )"
   ]
  },
  {
   "cell_type": "code",
   "execution_count": 13,
   "id": "8dbc06c1-4352-473e-b0e7-7dedd07cf14a",
   "metadata": {},
   "outputs": [],
   "source": [
    "# stockQuote.objects.bulk_create(new_quotes, ignore_conflicts=True)"
   ]
  },
  {
   "cell_type": "code",
   "execution_count": 14,
   "id": "3c3f5e7f-91f0-481e-8434-c9ddb035ebdf",
   "metadata": {},
   "outputs": [
    {
     "data": {
      "text/plain": [
       "<QuerySet [<stockQuote: stockQuote object (1)>, <stockQuote: stockQuote object (186)>, <stockQuote: stockQuote object (187)>, <stockQuote: stockQuote object (188)>, <stockQuote: stockQuote object (189)>, <stockQuote: stockQuote object (190)>, <stockQuote: stockQuote object (191)>, <stockQuote: stockQuote object (192)>, <stockQuote: stockQuote object (193)>, <stockQuote: stockQuote object (194)>, <stockQuote: stockQuote object (195)>, <stockQuote: stockQuote object (196)>, <stockQuote: stockQuote object (197)>, <stockQuote: stockQuote object (198)>, <stockQuote: stockQuote object (199)>, <stockQuote: stockQuote object (200)>, <stockQuote: stockQuote object (201)>, <stockQuote: stockQuote object (202)>, <stockQuote: stockQuote object (203)>, <stockQuote: stockQuote object (204)>, '...(remaining elements truncated)...']>"
      ]
     },
     "execution_count": 14,
     "metadata": {},
     "output_type": "execute_result"
    }
   ],
   "source": [
    "stockQuote.objects.all()"
   ]
  },
  {
   "cell_type": "code",
   "execution_count": 15,
   "id": "5bd695c3-675a-4c39-baaa-269f8384cc58",
   "metadata": {},
   "outputs": [],
   "source": [
    "batch_size = 1000\n",
    "for i in range(0, len(dataset), batch_size):\n",
    "    batch_chunk = dataset[i:i+batch_size]\n",
    "    chunked_quotes = []\n",
    "    for data in batch_chunk:\n",
    "        chunked_quotes.append(\n",
    "            stockQuote(company=company_obj, **data)\n",
    "        )\n",
    "    stockQuote.objects.bulk_create(chunked_quotes, ignore_conflicts=True)"
   ]
  },
  {
   "cell_type": "code",
   "execution_count": 18,
   "id": "16e4e3ac-5f01-4c3c-bdde-4e6559dc79d1",
   "metadata": {},
   "outputs": [
    {
     "data": {
      "text/plain": [
       "5001"
      ]
     },
     "execution_count": 18,
     "metadata": {},
     "output_type": "execute_result"
    }
   ],
   "source": [
    "stockQuote.objects.all().count()"
   ]
  },
  {
   "cell_type": "code",
   "execution_count": null,
   "id": "ab60c388-0eed-4c9e-9b7a-c260947c3430",
   "metadata": {},
   "outputs": [],
   "source": [
    "# stockQuote.objects.bulk_create(new_quotes, ignore_conflicts=True)"
   ]
  }
 ],
 "metadata": {
  "kernelspec": {
   "display_name": "Python 3 (ipykernel)",
   "language": "python",
   "name": "python3"
  },
  "language_info": {
   "codemirror_mode": {
    "name": "ipython",
    "version": 3
   },
   "file_extension": ".py",
   "mimetype": "text/x-python",
   "name": "python",
   "nbconvert_exporter": "python",
   "pygments_lexer": "ipython3",
   "version": "3.13.4"
  }
 },
 "nbformat": 4,
 "nbformat_minor": 5
}
