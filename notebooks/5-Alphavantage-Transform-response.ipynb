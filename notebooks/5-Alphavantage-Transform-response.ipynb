{
 "cells": [
  {
   "cell_type": "code",
   "execution_count": 1,
   "id": "4474f00f-bf51-441c-ab9a-6fd2bf311c5f",
   "metadata": {},
   "outputs": [],
   "source": [
    "from decouple import AutoConfig"
   ]
  },
  {
   "cell_type": "code",
   "execution_count": 2,
   "id": "67c587b9-9736-41df-8bcf-c14803a542f3",
   "metadata": {},
   "outputs": [],
   "source": [
    "config = AutoConfig(search_path=\"..\")"
   ]
  },
  {
   "cell_type": "code",
   "execution_count": 3,
   "id": "a2e96373-af2c-41fc-8aeb-479823d240ab",
   "metadata": {},
   "outputs": [],
   "source": [
    "assert config(\"ALPHA_VANTAGE_API_KEY\", default=None, cast = str) is not None"
   ]
  },
  {
   "cell_type": "code",
   "execution_count": 4,
   "id": "3c8a919c-8cc3-414f-9d44-0dabc0618b6a",
   "metadata": {},
   "outputs": [],
   "source": [
    "ALPHA_VANTAGE_API_KEY = config(\"ALPHA_VANTAGE_API_KEY\", default=None, cast = str)"
   ]
  },
  {
   "cell_type": "code",
   "execution_count": 5,
   "id": "63227c94-cf1b-42f7-8073-befe22eb92b7",
   "metadata": {},
   "outputs": [],
   "source": [
    "# ALPHA_VANTAGE_API_KEY"
   ]
  },
  {
   "cell_type": "code",
   "execution_count": 9,
   "id": "87871925-6057-46bc-98f4-ac61f100bee4",
   "metadata": {},
   "outputs": [],
   "source": [
    "import requests\n",
    "\n",
    "api_key = ALPHA_VANTAGE_API_KEY\n",
    "\n",
    "params = {\n",
    "    \"api_key\" : ALPHA_VANTAGE_API_KEY,\n",
    "    \"ticker\" : \"AAPL\",\n",
    "    \"function\" : \"TIME_SERIES_INTRADAY\"\n",
    "}\n",
    "\n",
    "url = 'https://www.alphavantage.co/query?function={function}&symbol={ticker}&interval=5min&apikey={api_key}'.format(\n",
    "    **params\n",
    ")\n",
    "r = requests.get(url)\n",
    "data = r.json()\n"
   ]
  },
  {
   "cell_type": "code",
   "execution_count": 31,
   "id": "4dff1f6d-7678-466c-87f0-380478272c59",
   "metadata": {},
   "outputs": [],
   "source": [
    "# data"
   ]
  },
  {
   "cell_type": "code",
   "execution_count": 11,
   "id": "77f04f72-4a05-4b7e-bfab-a59a06d4b802",
   "metadata": {},
   "outputs": [
    {
     "data": {
      "text/plain": [
       "dict_keys(['Meta Data', 'Time Series (5min)'])"
      ]
     },
     "execution_count": 11,
     "metadata": {},
     "output_type": "execute_result"
    }
   ],
   "source": [
    "data.keys()"
   ]
  },
  {
   "cell_type": "code",
   "execution_count": 13,
   "id": "4629a896-9db1-4b9c-b316-1a39977f494d",
   "metadata": {},
   "outputs": [
    {
     "data": {
      "text/plain": [
       "'Time Series (5min)'"
      ]
     },
     "execution_count": 13,
     "metadata": {},
     "output_type": "execute_result"
    }
   ],
   "source": [
    "dataset_key =[ x for x in list(data.keys()) if not x.lower() == \"meta data\"][0]\n",
    "dataset_key"
   ]
  },
  {
   "cell_type": "code",
   "execution_count": 14,
   "id": "4ce20a88-f372-408b-be24-ecf55f07f587",
   "metadata": {},
   "outputs": [],
   "source": [
    "results = data[dataset_key]"
   ]
  },
  {
   "cell_type": "code",
   "execution_count": 34,
   "id": "0860e8e6-98ee-41bc-9c31-264c4d681b19",
   "metadata": {},
   "outputs": [],
   "source": [
    "import pytz\n",
    "from datetime import datetime"
   ]
  },
  {
   "cell_type": "code",
   "execution_count": 20,
   "id": "24cec776-65a3-42f4-b18d-8a7c980cc809",
   "metadata": {},
   "outputs": [],
   "source": [
    "# for timestamp_str in results.keys():\n",
    "#     print(timestamp_str, results.get(timestamp_str))\n",
    "    "
   ]
  },
  {
   "cell_type": "code",
   "execution_count": 22,
   "id": "25b63eb5-180e-4095-9562-ebbb22fa2a3d",
   "metadata": {},
   "outputs": [
    {
     "data": {
      "text/plain": [
       "'2025-07-30 19:55:00'"
      ]
     },
     "execution_count": 22,
     "metadata": {},
     "output_type": "execute_result"
    }
   ],
   "source": [
    "timestamp_str = list(results.keys())[0]\n",
    "timestamp_str"
   ]
  },
  {
   "cell_type": "code",
   "execution_count": 36,
   "id": "6eddb278-0660-4d3b-b5bf-f3ec2f2833fe",
   "metadata": {},
   "outputs": [
    {
     "data": {
      "text/plain": [
       "datetime.datetime(2025, 7, 30, 23, 55, tzinfo=<UTC>)"
      ]
     },
     "execution_count": 36,
     "metadata": {},
     "output_type": "execute_result"
    }
   ],
   "source": [
    "timestamp_format = '%Y-%m-%d %H:%M:%S' # dateutils\n",
    "eastern = pytz.timezone('US/Eastern')\n",
    "utc = pytz.utc\n",
    "timestamp = eastern.localize(datetime.strptime(timestamp_str, timestamp_format)).astimezone(utc)\n",
    "timestamp"
   ]
  },
  {
   "cell_type": "code",
   "execution_count": 25,
   "id": "472797a8-a4ba-4037-9a00-84764dcd2cc9",
   "metadata": {},
   "outputs": [],
   "source": [
    "result_val = results.get(timestamp_str)"
   ]
  },
  {
   "cell_type": "code",
   "execution_count": 39,
   "id": "2c0df429-dbb9-4f05-bdaa-87b3754c953c",
   "metadata": {},
   "outputs": [],
   "source": [
    "import pytz\n",
    "from datetime import datetime\n",
    "from decimal import Decimal\n",
    "\n",
    "def transform_alphavantage_result(timestamp_str, result):\n",
    "    # unix_timestamp = result.get('t') / 1000.0\n",
    "    # utc_timestamp = datetime.fromtimestamp(unix_timestamp, tz = pytz.timezone('UTC'))\n",
    "    timestamp_format = '%Y-%m-%d %H:%M:%S' # dateutils\n",
    "    eastern = pytz.timezone('US/Eastern')\n",
    "    utc = pytz.utc\n",
    "    utc_timestamp = eastern.localize(datetime.strptime(timestamp_str, timestamp_format)).astimezone(utc)\n",
    "    return {\n",
    "        'open_price' : Decimal(result['1. open']),\n",
    "        'close_price' : Decimal(result['4. close']),\n",
    "        'high_price' : Decimal(result['2. high']),\n",
    "        'low_price' : Decimal(result['3. low']),\n",
    "        # 'number_of_trades' : None,\n",
    "        'volume' : int(result['5. volume']),\n",
    "        # 'volume_weighted_average' : None,\n",
    "        'time' : utc_timestamp\n",
    "    }"
   ]
  },
  {
   "cell_type": "code",
   "execution_count": 40,
   "id": "384272ac-9c0f-4190-b7c2-0e9b4156a9f3",
   "metadata": {},
   "outputs": [
    {
     "data": {
      "text/plain": [
       "{'open_price': Decimal('208.9200'),\n",
       " 'close_price': Decimal('208.7300'),\n",
       " 'high_price': Decimal('208.9200'),\n",
       " 'low_price': Decimal('208.6573'),\n",
       " 'volume': 28880,\n",
       " 'time': datetime.datetime(2025, 7, 30, 23, 55, tzinfo=<UTC>)}"
      ]
     },
     "execution_count": 40,
     "metadata": {},
     "output_type": "execute_result"
    }
   ],
   "source": [
    "transform_alphavantage_result(timestamp_str, result_val)"
   ]
  },
  {
   "cell_type": "code",
   "execution_count": 41,
   "id": "fa74226d-1e26-4ce3-aaa6-1e2f515d0281",
   "metadata": {},
   "outputs": [
    {
     "name": "stdout",
     "output_type": "stream",
     "text": [
      "{'open_price': Decimal('208.9200'), 'close_price': Decimal('208.7300'), 'high_price': Decimal('208.9200'), 'low_price': Decimal('208.6573'), 'volume': 28880, 'time': datetime.datetime(2025, 7, 30, 23, 55, tzinfo=<UTC>)}\n",
      "{'open_price': Decimal('208.8401'), 'close_price': Decimal('208.9187'), 'high_price': Decimal('208.9900'), 'low_price': Decimal('208.7834'), 'volume': 11265, 'time': datetime.datetime(2025, 7, 30, 23, 50, tzinfo=<UTC>)}\n",
      "{'open_price': Decimal('208.7300'), 'close_price': Decimal('208.9100'), 'high_price': Decimal('208.9900'), 'low_price': Decimal('208.7300'), 'volume': 19483, 'time': datetime.datetime(2025, 7, 30, 23, 45, tzinfo=<UTC>)}\n",
      "{'open_price': Decimal('208.6400'), 'close_price': Decimal('208.7400'), 'high_price': Decimal('208.7400'), 'low_price': Decimal('208.5700'), 'volume': 10717, 'time': datetime.datetime(2025, 7, 30, 23, 40, tzinfo=<UTC>)}\n",
      "{'open_price': Decimal('208.5500'), 'close_price': Decimal('208.6500'), 'high_price': Decimal('208.7000'), 'low_price': Decimal('208.5500'), 'volume': 5432, 'time': datetime.datetime(2025, 7, 30, 23, 35, tzinfo=<UTC>)}\n",
      "{'open_price': Decimal('208.7300'), 'close_price': Decimal('208.6000'), 'high_price': Decimal('208.7400'), 'low_price': Decimal('208.4139'), 'volume': 10382, 'time': datetime.datetime(2025, 7, 30, 23, 30, tzinfo=<UTC>)}\n",
      "{'open_price': Decimal('208.7400'), 'close_price': Decimal('208.7300'), 'high_price': Decimal('208.7600'), 'low_price': Decimal('208.6900'), 'volume': 19826, 'time': datetime.datetime(2025, 7, 30, 23, 25, tzinfo=<UTC>)}\n",
      "{'open_price': Decimal('208.7300'), 'close_price': Decimal('208.7397'), 'high_price': Decimal('208.7900'), 'low_price': Decimal('208.6000'), 'volume': 11370, 'time': datetime.datetime(2025, 7, 30, 23, 20, tzinfo=<UTC>)}\n",
      "{'open_price': Decimal('208.6000'), 'close_price': Decimal('208.7360'), 'high_price': Decimal('208.7500'), 'low_price': Decimal('208.5000'), 'volume': 11035, 'time': datetime.datetime(2025, 7, 30, 23, 15, tzinfo=<UTC>)}\n",
      "{'open_price': Decimal('208.3700'), 'close_price': Decimal('208.6000'), 'high_price': Decimal('208.6700'), 'low_price': Decimal('208.3600'), 'volume': 8346, 'time': datetime.datetime(2025, 7, 30, 23, 10, tzinfo=<UTC>)}\n",
      "{'open_price': Decimal('208.3693'), 'close_price': Decimal('208.3700'), 'high_price': Decimal('208.3700'), 'low_price': Decimal('208.3000'), 'volume': 9581, 'time': datetime.datetime(2025, 7, 30, 23, 5, tzinfo=<UTC>)}\n",
      "{'open_price': Decimal('208.4000'), 'close_price': Decimal('208.3700'), 'high_price': Decimal('208.4600'), 'low_price': Decimal('208.3000'), 'volume': 11694, 'time': datetime.datetime(2025, 7, 30, 23, 0, tzinfo=<UTC>)}\n",
      "{'open_price': Decimal('208.4500'), 'close_price': Decimal('208.4000'), 'high_price': Decimal('208.5000'), 'low_price': Decimal('208.3000'), 'volume': 18492, 'time': datetime.datetime(2025, 7, 30, 22, 55, tzinfo=<UTC>)}\n",
      "{'open_price': Decimal('208.3900'), 'close_price': Decimal('208.4600'), 'high_price': Decimal('208.4900'), 'low_price': Decimal('208.3900'), 'volume': 12934, 'time': datetime.datetime(2025, 7, 30, 22, 50, tzinfo=<UTC>)}\n",
      "{'open_price': Decimal('208.2803'), 'close_price': Decimal('208.3800'), 'high_price': Decimal('208.3900'), 'low_price': Decimal('208.2800'), 'volume': 11767, 'time': datetime.datetime(2025, 7, 30, 22, 45, tzinfo=<UTC>)}\n",
      "{'open_price': Decimal('208.2400'), 'close_price': Decimal('208.2800'), 'high_price': Decimal('208.3800'), 'low_price': Decimal('208.0500'), 'volume': 11464, 'time': datetime.datetime(2025, 7, 30, 22, 40, tzinfo=<UTC>)}\n",
      "{'open_price': Decimal('208.1100'), 'close_price': Decimal('208.2400'), 'high_price': Decimal('208.2500'), 'low_price': Decimal('208.0800'), 'volume': 15805, 'time': datetime.datetime(2025, 7, 30, 22, 35, tzinfo=<UTC>)}\n",
      "{'open_price': Decimal('208.0800'), 'close_price': Decimal('208.1500'), 'high_price': Decimal('208.1500'), 'low_price': Decimal('207.8100'), 'volume': 14018, 'time': datetime.datetime(2025, 7, 30, 22, 30, tzinfo=<UTC>)}\n",
      "{'open_price': Decimal('208.2000'), 'close_price': Decimal('208.0800'), 'high_price': Decimal('208.2500'), 'low_price': Decimal('208.0000'), 'volume': 7113, 'time': datetime.datetime(2025, 7, 30, 22, 25, tzinfo=<UTC>)}\n",
      "{'open_price': Decimal('208.0000'), 'close_price': Decimal('208.2300'), 'high_price': Decimal('209.0500'), 'low_price': Decimal('207.7200'), 'volume': 1451737, 'time': datetime.datetime(2025, 7, 30, 22, 20, tzinfo=<UTC>)}\n",
      "{'open_price': Decimal('208.0000'), 'close_price': Decimal('208.0000'), 'high_price': Decimal('208.0000'), 'low_price': Decimal('207.6400'), 'volume': 11529, 'time': datetime.datetime(2025, 7, 30, 22, 15, tzinfo=<UTC>)}\n",
      "{'open_price': Decimal('207.9800'), 'close_price': Decimal('208.0000'), 'high_price': Decimal('208.0000'), 'low_price': Decimal('207.7500'), 'volume': 11616, 'time': datetime.datetime(2025, 7, 30, 22, 10, tzinfo=<UTC>)}\n",
      "{'open_price': Decimal('208.0600'), 'close_price': Decimal('208.0000'), 'high_price': Decimal('208.2400'), 'low_price': Decimal('207.5400'), 'volume': 27493, 'time': datetime.datetime(2025, 7, 30, 22, 5, tzinfo=<UTC>)}\n",
      "{'open_price': Decimal('207.9000'), 'close_price': Decimal('208.1800'), 'high_price': Decimal('208.2500'), 'low_price': Decimal('207.6300'), 'volume': 22011, 'time': datetime.datetime(2025, 7, 30, 22, 0, tzinfo=<UTC>)}\n",
      "{'open_price': Decimal('208.2500'), 'close_price': Decimal('207.9500'), 'high_price': Decimal('208.2800'), 'low_price': Decimal('207.3900'), 'volume': 26093, 'time': datetime.datetime(2025, 7, 30, 21, 55, tzinfo=<UTC>)}\n",
      "{'open_price': Decimal('208.1000'), 'close_price': Decimal('208.1500'), 'high_price': Decimal('208.2800'), 'low_price': Decimal('207.4000'), 'volume': 11712, 'time': datetime.datetime(2025, 7, 30, 21, 50, tzinfo=<UTC>)}\n",
      "{'open_price': Decimal('208.2900'), 'close_price': Decimal('207.8100'), 'high_price': Decimal('208.3000'), 'low_price': Decimal('207.8100'), 'volume': 29928, 'time': datetime.datetime(2025, 7, 30, 21, 45, tzinfo=<UTC>)}\n",
      "{'open_price': Decimal('208.3963'), 'close_price': Decimal('208.2900'), 'high_price': Decimal('208.4000'), 'low_price': Decimal('208.2500'), 'volume': 9560, 'time': datetime.datetime(2025, 7, 30, 21, 40, tzinfo=<UTC>)}\n",
      "{'open_price': Decimal('208.3000'), 'close_price': Decimal('208.4000'), 'high_price': Decimal('208.4000'), 'low_price': Decimal('208.2500'), 'volume': 5629, 'time': datetime.datetime(2025, 7, 30, 21, 35, tzinfo=<UTC>)}\n",
      "{'open_price': Decimal('208.1200'), 'close_price': Decimal('208.2900'), 'high_price': Decimal('208.3500'), 'low_price': Decimal('208.1100'), 'volume': 17536, 'time': datetime.datetime(2025, 7, 30, 21, 30, tzinfo=<UTC>)}\n",
      "{'open_price': Decimal('208.3000'), 'close_price': Decimal('208.2600'), 'high_price': Decimal('208.3500'), 'low_price': Decimal('207.8100'), 'volume': 25895, 'time': datetime.datetime(2025, 7, 30, 21, 25, tzinfo=<UTC>)}\n",
      "{'open_price': Decimal('208.2000'), 'close_price': Decimal('208.1200'), 'high_price': Decimal('208.3700'), 'low_price': Decimal('208.0200'), 'volume': 12014, 'time': datetime.datetime(2025, 7, 30, 21, 20, tzinfo=<UTC>)}\n",
      "{'open_price': Decimal('208.3000'), 'close_price': Decimal('208.2600'), 'high_price': Decimal('213.4692'), 'low_price': Decimal('196.9455'), 'volume': 10772, 'time': datetime.datetime(2025, 7, 30, 21, 15, tzinfo=<UTC>)}\n",
      "{'open_price': Decimal('208.2600'), 'close_price': Decimal('208.3000'), 'high_price': Decimal('208.4000'), 'low_price': Decimal('208.1100'), 'volume': 15040, 'time': datetime.datetime(2025, 7, 30, 21, 10, tzinfo=<UTC>)}\n",
      "{'open_price': Decimal('208.1300'), 'close_price': Decimal('208.2500'), 'high_price': Decimal('208.3000'), 'low_price': Decimal('208.0000'), 'volume': 20298, 'time': datetime.datetime(2025, 7, 30, 21, 5, tzinfo=<UTC>)}\n",
      "{'open_price': Decimal('208.1000'), 'close_price': Decimal('208.1000'), 'high_price': Decimal('208.2800'), 'low_price': Decimal('208.0100'), 'volume': 20380, 'time': datetime.datetime(2025, 7, 30, 21, 0, tzinfo=<UTC>)}\n",
      "{'open_price': Decimal('208.0000'), 'close_price': Decimal('208.1600'), 'high_price': Decimal('208.2600'), 'low_price': Decimal('204.3016'), 'volume': 48186, 'time': datetime.datetime(2025, 7, 30, 20, 55, tzinfo=<UTC>)}\n",
      "{'open_price': Decimal('207.9200'), 'close_price': Decimal('207.9900'), 'high_price': Decimal('217.4513'), 'low_price': Decimal('201.9471'), 'volume': 32733, 'time': datetime.datetime(2025, 7, 30, 20, 50, tzinfo=<UTC>)}\n",
      "{'open_price': Decimal('207.9978'), 'close_price': Decimal('208.0000'), 'high_price': Decimal('220.0179'), 'low_price': Decimal('207.6900'), 'volume': 26030, 'time': datetime.datetime(2025, 7, 30, 20, 45, tzinfo=<UTC>)}\n",
      "{'open_price': Decimal('207.7000'), 'close_price': Decimal('207.9900'), 'high_price': Decimal('208.2000'), 'low_price': Decimal('207.6500'), 'volume': 50647, 'time': datetime.datetime(2025, 7, 30, 20, 40, tzinfo=<UTC>)}\n",
      "{'open_price': Decimal('207.5700'), 'close_price': Decimal('207.7000'), 'high_price': Decimal('209.0500'), 'low_price': Decimal('207.3200'), 'volume': 535824, 'time': datetime.datetime(2025, 7, 30, 20, 35, tzinfo=<UTC>)}\n",
      "{'open_price': Decimal('207.9600'), 'close_price': Decimal('207.5500'), 'high_price': Decimal('208.0900'), 'low_price': Decimal('207.4000'), 'volume': 179513, 'time': datetime.datetime(2025, 7, 30, 20, 30, tzinfo=<UTC>)}\n",
      "{'open_price': Decimal('207.9900'), 'close_price': Decimal('207.9100'), 'high_price': Decimal('209.0500'), 'low_price': Decimal('207.9100'), 'volume': 64683, 'time': datetime.datetime(2025, 7, 30, 20, 25, tzinfo=<UTC>)}\n",
      "{'open_price': Decimal('208.5000'), 'close_price': Decimal('207.9300'), 'high_price': Decimal('209.0500'), 'low_price': Decimal('207.5500'), 'volume': 121618, 'time': datetime.datetime(2025, 7, 30, 20, 20, tzinfo=<UTC>)}\n",
      "{'open_price': Decimal('209.0500'), 'close_price': Decimal('208.5700'), 'high_price': Decimal('209.0500'), 'low_price': Decimal('208.0800'), 'volume': 74920, 'time': datetime.datetime(2025, 7, 30, 20, 15, tzinfo=<UTC>)}\n",
      "{'open_price': Decimal('209.4000'), 'close_price': Decimal('208.6700'), 'high_price': Decimal('209.4000'), 'low_price': Decimal('208.6500'), 'volume': 75799, 'time': datetime.datetime(2025, 7, 30, 20, 10, tzinfo=<UTC>)}\n",
      "{'open_price': Decimal('208.7800'), 'close_price': Decimal('209.4500'), 'high_price': Decimal('209.5100'), 'low_price': Decimal('208.2400'), 'volume': 198474, 'time': datetime.datetime(2025, 7, 30, 20, 5, tzinfo=<UTC>)}\n",
      "{'open_price': Decimal('209.0500'), 'close_price': Decimal('209.1300'), 'high_price': Decimal('210.0000'), 'low_price': Decimal('208.5700'), 'volume': 17784034, 'time': datetime.datetime(2025, 7, 30, 20, 0, tzinfo=<UTC>)}\n",
      "{'open_price': Decimal('208.7200'), 'close_price': Decimal('209.0200'), 'high_price': Decimal('209.1100'), 'low_price': Decimal('208.3800'), 'volume': 1931067, 'time': datetime.datetime(2025, 7, 30, 19, 55, tzinfo=<UTC>)}\n",
      "{'open_price': Decimal('208.4100'), 'close_price': Decimal('208.7300'), 'high_price': Decimal('208.8800'), 'low_price': Decimal('208.3900'), 'volume': 614622, 'time': datetime.datetime(2025, 7, 30, 19, 50, tzinfo=<UTC>)}\n",
      "{'open_price': Decimal('208.1700'), 'close_price': Decimal('208.4000'), 'high_price': Decimal('208.5900'), 'low_price': Decimal('208.1500'), 'volume': 423027, 'time': datetime.datetime(2025, 7, 30, 19, 45, tzinfo=<UTC>)}\n",
      "{'open_price': Decimal('208.2900'), 'close_price': Decimal('208.1600'), 'high_price': Decimal('208.6700'), 'low_price': Decimal('208.1213'), 'volume': 410644, 'time': datetime.datetime(2025, 7, 30, 19, 40, tzinfo=<UTC>)}\n",
      "{'open_price': Decimal('208.6400'), 'close_price': Decimal('208.3000'), 'high_price': Decimal('208.7400'), 'low_price': Decimal('208.2600'), 'volume': 380498, 'time': datetime.datetime(2025, 7, 30, 19, 35, tzinfo=<UTC>)}\n",
      "{'open_price': Decimal('208.5100'), 'close_price': Decimal('208.6400'), 'high_price': Decimal('208.8300'), 'low_price': Decimal('208.5000'), 'volume': 430851, 'time': datetime.datetime(2025, 7, 30, 19, 30, tzinfo=<UTC>)}\n",
      "{'open_price': Decimal('208.2800'), 'close_price': Decimal('208.5200'), 'high_price': Decimal('208.5400'), 'low_price': Decimal('208.2800'), 'volume': 354131, 'time': datetime.datetime(2025, 7, 30, 19, 25, tzinfo=<UTC>)}\n",
      "{'open_price': Decimal('208.4450'), 'close_price': Decimal('208.2900'), 'high_price': Decimal('208.7100'), 'low_price': Decimal('208.2700'), 'volume': 432487, 'time': datetime.datetime(2025, 7, 30, 19, 20, tzinfo=<UTC>)}\n",
      "{'open_price': Decimal('208.2900'), 'close_price': Decimal('208.4300'), 'high_price': Decimal('208.5304'), 'low_price': Decimal('208.1500'), 'volume': 524959, 'time': datetime.datetime(2025, 7, 30, 19, 15, tzinfo=<UTC>)}\n",
      "{'open_price': Decimal('208.0900'), 'close_price': Decimal('208.2900'), 'high_price': Decimal('208.5300'), 'low_price': Decimal('207.9300'), 'volume': 473929, 'time': datetime.datetime(2025, 7, 30, 19, 10, tzinfo=<UTC>)}\n",
      "{'open_price': Decimal('207.9700'), 'close_price': Decimal('208.0700'), 'high_price': Decimal('208.1292'), 'low_price': Decimal('207.7200'), 'volume': 507072, 'time': datetime.datetime(2025, 7, 30, 19, 5, tzinfo=<UTC>)}\n",
      "{'open_price': Decimal('208.3250'), 'close_price': Decimal('207.9799'), 'high_price': Decimal('208.3250'), 'low_price': Decimal('207.8700'), 'volume': 744134, 'time': datetime.datetime(2025, 7, 30, 19, 0, tzinfo=<UTC>)}\n",
      "{'open_price': Decimal('208.8400'), 'close_price': Decimal('208.3500'), 'high_price': Decimal('208.9400'), 'low_price': Decimal('208.3000'), 'volume': 617198, 'time': datetime.datetime(2025, 7, 30, 18, 55, tzinfo=<UTC>)}\n",
      "{'open_price': Decimal('209.3200'), 'close_price': Decimal('208.8400'), 'high_price': Decimal('209.3250'), 'low_price': Decimal('208.7300'), 'volume': 730710, 'time': datetime.datetime(2025, 7, 30, 18, 50, tzinfo=<UTC>)}\n",
      "{'open_price': Decimal('209.7900'), 'close_price': Decimal('209.3200'), 'high_price': Decimal('209.8050'), 'low_price': Decimal('209.2600'), 'volume': 417748, 'time': datetime.datetime(2025, 7, 30, 18, 45, tzinfo=<UTC>)}\n",
      "{'open_price': Decimal('209.6200'), 'close_price': Decimal('209.8000'), 'high_price': Decimal('209.8700'), 'low_price': Decimal('209.3601'), 'volume': 346029, 'time': datetime.datetime(2025, 7, 30, 18, 40, tzinfo=<UTC>)}\n",
      "{'open_price': Decimal('210.0650'), 'close_price': Decimal('209.6250'), 'high_price': Decimal('210.1200'), 'low_price': Decimal('209.5400'), 'volume': 404911, 'time': datetime.datetime(2025, 7, 30, 18, 35, tzinfo=<UTC>)}\n",
      "{'open_price': Decimal('209.8550'), 'close_price': Decimal('210.0650'), 'high_price': Decimal('210.1400'), 'low_price': Decimal('209.8100'), 'volume': 349070, 'time': datetime.datetime(2025, 7, 30, 18, 30, tzinfo=<UTC>)}\n",
      "{'open_price': Decimal('209.6250'), 'close_price': Decimal('209.8550'), 'high_price': Decimal('209.8798'), 'low_price': Decimal('209.6250'), 'volume': 239194, 'time': datetime.datetime(2025, 7, 30, 18, 25, tzinfo=<UTC>)}\n",
      "{'open_price': Decimal('209.5850'), 'close_price': Decimal('209.6250'), 'high_price': Decimal('209.7399'), 'low_price': Decimal('209.5101'), 'volume': 236935, 'time': datetime.datetime(2025, 7, 30, 18, 20, tzinfo=<UTC>)}\n",
      "{'open_price': Decimal('209.5502'), 'close_price': Decimal('209.5850'), 'high_price': Decimal('209.6600'), 'low_price': Decimal('209.4800'), 'volume': 235078, 'time': datetime.datetime(2025, 7, 30, 18, 15, tzinfo=<UTC>)}\n",
      "{'open_price': Decimal('209.7250'), 'close_price': Decimal('209.5500'), 'high_price': Decimal('209.8798'), 'low_price': Decimal('209.5000'), 'volume': 250020, 'time': datetime.datetime(2025, 7, 30, 18, 10, tzinfo=<UTC>)}\n",
      "{'open_price': Decimal('209.8500'), 'close_price': Decimal('209.7200'), 'high_price': Decimal('209.9600'), 'low_price': Decimal('209.6300'), 'volume': 230695, 'time': datetime.datetime(2025, 7, 30, 18, 5, tzinfo=<UTC>)}\n",
      "{'open_price': Decimal('209.9200'), 'close_price': Decimal('209.8400'), 'high_price': Decimal('210.0350'), 'low_price': Decimal('209.6750'), 'volume': 790429, 'time': datetime.datetime(2025, 7, 30, 18, 0, tzinfo=<UTC>)}\n",
      "{'open_price': Decimal('209.9500'), 'close_price': Decimal('209.9200'), 'high_price': Decimal('210.0600'), 'low_price': Decimal('209.8350'), 'volume': 176153, 'time': datetime.datetime(2025, 7, 30, 17, 55, tzinfo=<UTC>)}\n",
      "{'open_price': Decimal('209.8150'), 'close_price': Decimal('209.9400'), 'high_price': Decimal('209.9700'), 'low_price': Decimal('209.7800'), 'volume': 193819, 'time': datetime.datetime(2025, 7, 30, 17, 50, tzinfo=<UTC>)}\n",
      "{'open_price': Decimal('210.0900'), 'close_price': Decimal('209.8200'), 'high_price': Decimal('210.0900'), 'low_price': Decimal('209.7450'), 'volume': 246065, 'time': datetime.datetime(2025, 7, 30, 17, 45, tzinfo=<UTC>)}\n",
      "{'open_price': Decimal('209.9900'), 'close_price': Decimal('210.0800'), 'high_price': Decimal('210.1499'), 'low_price': Decimal('209.9800'), 'volume': 209159, 'time': datetime.datetime(2025, 7, 30, 17, 40, tzinfo=<UTC>)}\n",
      "{'open_price': Decimal('209.8500'), 'close_price': Decimal('209.9900'), 'high_price': Decimal('210.0100'), 'low_price': Decimal('209.8300'), 'volume': 213281, 'time': datetime.datetime(2025, 7, 30, 17, 35, tzinfo=<UTC>)}\n",
      "{'open_price': Decimal('209.7550'), 'close_price': Decimal('209.8800'), 'high_price': Decimal('209.8900'), 'low_price': Decimal('209.7200'), 'volume': 191433, 'time': datetime.datetime(2025, 7, 30, 17, 30, tzinfo=<UTC>)}\n",
      "{'open_price': Decimal('209.5550'), 'close_price': Decimal('209.7550'), 'high_price': Decimal('209.8200'), 'low_price': Decimal('209.5500'), 'volume': 199994, 'time': datetime.datetime(2025, 7, 30, 17, 25, tzinfo=<UTC>)}\n",
      "{'open_price': Decimal('209.6799'), 'close_price': Decimal('209.5550'), 'high_price': Decimal('209.7200'), 'low_price': Decimal('209.5200'), 'volume': 162599, 'time': datetime.datetime(2025, 7, 30, 17, 20, tzinfo=<UTC>)}\n",
      "{'open_price': Decimal('209.4302'), 'close_price': Decimal('209.6789'), 'high_price': Decimal('209.7100'), 'low_price': Decimal('209.4300'), 'volume': 240288, 'time': datetime.datetime(2025, 7, 30, 17, 15, tzinfo=<UTC>)}\n",
      "{'open_price': Decimal('209.4800'), 'close_price': Decimal('209.4300'), 'high_price': Decimal('209.5500'), 'low_price': Decimal('209.3200'), 'volume': 341513, 'time': datetime.datetime(2025, 7, 30, 17, 10, tzinfo=<UTC>)}\n",
      "{'open_price': Decimal('209.6900'), 'close_price': Decimal('209.4800'), 'high_price': Decimal('209.7100'), 'low_price': Decimal('209.4300'), 'volume': 310059, 'time': datetime.datetime(2025, 7, 30, 17, 5, tzinfo=<UTC>)}\n",
      "{'open_price': Decimal('209.5850'), 'close_price': Decimal('209.6900'), 'high_price': Decimal('209.7700'), 'low_price': Decimal('209.5800'), 'volume': 235601, 'time': datetime.datetime(2025, 7, 30, 17, 0, tzinfo=<UTC>)}\n",
      "{'open_price': Decimal('209.6400'), 'close_price': Decimal('209.5800'), 'high_price': Decimal('209.6600'), 'low_price': Decimal('209.5100'), 'volume': 342996, 'time': datetime.datetime(2025, 7, 30, 16, 55, tzinfo=<UTC>)}\n",
      "{'open_price': Decimal('209.9000'), 'close_price': Decimal('209.6366'), 'high_price': Decimal('209.9000'), 'low_price': Decimal('209.6300'), 'volume': 256527, 'time': datetime.datetime(2025, 7, 30, 16, 50, tzinfo=<UTC>)}\n",
      "{'open_price': Decimal('210.0000'), 'close_price': Decimal('209.9100'), 'high_price': Decimal('210.0400'), 'low_price': Decimal('209.8900'), 'volume': 174473, 'time': datetime.datetime(2025, 7, 30, 16, 45, tzinfo=<UTC>)}\n",
      "{'open_price': Decimal('210.0950'), 'close_price': Decimal('209.9900'), 'high_price': Decimal('210.1100'), 'low_price': Decimal('209.9400'), 'volume': 187717, 'time': datetime.datetime(2025, 7, 30, 16, 40, tzinfo=<UTC>)}\n",
      "{'open_price': Decimal('210.0600'), 'close_price': Decimal('210.1050'), 'high_price': Decimal('210.1500'), 'low_price': Decimal('210.0000'), 'volume': 156743, 'time': datetime.datetime(2025, 7, 30, 16, 35, tzinfo=<UTC>)}\n",
      "{'open_price': Decimal('210.1100'), 'close_price': Decimal('210.0558'), 'high_price': Decimal('210.1700'), 'low_price': Decimal('209.9801'), 'volume': 233318, 'time': datetime.datetime(2025, 7, 30, 16, 30, tzinfo=<UTC>)}\n",
      "{'open_price': Decimal('210.2400'), 'close_price': Decimal('210.1250'), 'high_price': Decimal('210.2400'), 'low_price': Decimal('210.0700'), 'volume': 152585, 'time': datetime.datetime(2025, 7, 30, 16, 25, tzinfo=<UTC>)}\n",
      "{'open_price': Decimal('210.2400'), 'close_price': Decimal('210.2500'), 'high_price': Decimal('210.4200'), 'low_price': Decimal('210.2400'), 'volume': 212689, 'time': datetime.datetime(2025, 7, 30, 16, 20, tzinfo=<UTC>)}\n",
      "{'open_price': Decimal('210.2000'), 'close_price': Decimal('210.2400'), 'high_price': Decimal('210.3400'), 'low_price': Decimal('210.1200'), 'volume': 183005, 'time': datetime.datetime(2025, 7, 30, 16, 15, tzinfo=<UTC>)}\n",
      "{'open_price': Decimal('210.2150'), 'close_price': Decimal('210.1950'), 'high_price': Decimal('210.2200'), 'low_price': Decimal('210.0700'), 'volume': 186592, 'time': datetime.datetime(2025, 7, 30, 16, 10, tzinfo=<UTC>)}\n",
      "{'open_price': Decimal('210.2850'), 'close_price': Decimal('210.2150'), 'high_price': Decimal('210.2900'), 'low_price': Decimal('210.1700'), 'volume': 168307, 'time': datetime.datetime(2025, 7, 30, 16, 5, tzinfo=<UTC>)}\n",
      "{'open_price': Decimal('210.1500'), 'close_price': Decimal('210.2899'), 'high_price': Decimal('210.3400'), 'low_price': Decimal('210.0800'), 'volume': 310669, 'time': datetime.datetime(2025, 7, 30, 16, 0, tzinfo=<UTC>)}\n",
      "{'open_price': Decimal('209.8423'), 'close_price': Decimal('210.1604'), 'high_price': Decimal('210.1900'), 'low_price': Decimal('209.8300'), 'volume': 374962, 'time': datetime.datetime(2025, 7, 30, 15, 55, tzinfo=<UTC>)}\n",
      "{'open_price': Decimal('209.8000'), 'close_price': Decimal('209.8500'), 'high_price': Decimal('209.8986'), 'low_price': Decimal('209.6600'), 'volume': 238493, 'time': datetime.datetime(2025, 7, 30, 15, 50, tzinfo=<UTC>)}\n",
      "{'open_price': Decimal('209.8500'), 'close_price': Decimal('209.7988'), 'high_price': Decimal('209.8800'), 'low_price': Decimal('209.7200'), 'volume': 224324, 'time': datetime.datetime(2025, 7, 30, 15, 45, tzinfo=<UTC>)}\n",
      "{'open_price': Decimal('209.7150'), 'close_price': Decimal('209.8696'), 'high_price': Decimal('209.8900'), 'low_price': Decimal('209.6950'), 'volume': 198288, 'time': datetime.datetime(2025, 7, 30, 15, 40, tzinfo=<UTC>)}\n"
     ]
    }
   ],
   "source": [
    "for timestamp_str in results.keys():\n",
    "    new_data = transform_alphavantage_result(timestamp_str, results.get(timestamp_str))\n",
    "    print(new_data)"
   ]
  },
  {
   "cell_type": "code",
   "execution_count": null,
   "id": "5af3e280-9d2b-43ab-92d3-73e9513a8314",
   "metadata": {},
   "outputs": [],
   "source": []
  }
 ],
 "metadata": {
  "kernelspec": {
   "display_name": "Python 3 (ipykernel)",
   "language": "python",
   "name": "python3"
  },
  "language_info": {
   "codemirror_mode": {
    "name": "ipython",
    "version": 3
   },
   "file_extension": ".py",
   "mimetype": "text/x-python",
   "name": "python",
   "nbconvert_exporter": "python",
   "pygments_lexer": "ipython3",
   "version": "3.13.4"
  }
 },
 "nbformat": 4,
 "nbformat_minor": 5
}
